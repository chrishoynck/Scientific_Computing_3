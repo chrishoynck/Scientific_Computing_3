{
 "cells": [
  {
   "cell_type": "code",
   "execution_count": 1,
   "metadata": {},
   "outputs": [],
   "source": [
    "import numpy as np\n",
    "import src.solutions.eigenmodes_part1 as eigen_part1\n",
    "import src.solutions.direct_diffusion as direct_diffusion\n",
    "import src.solutions.leapfrog as leapfrog\n",
    "import src.visualizations as vis\n"
   ]
  },
  {
   "cell_type": "code",
   "execution_count": 2,
   "metadata": {},
   "outputs": [],
   "source": [
    "import numpy as np\n",
    "import matplotlib.pyplot as plt\n",
    "from matplotlib.colors import ListedColormap, BoundaryNorm\n",
    "import matplotlib.cm as cm\n",
    "import matplotlib.colors as mcolors"
   ]
  },
  {
   "cell_type": "code",
   "execution_count": 3,
   "metadata": {},
   "outputs": [],
   "source": [
    "N = 5"
   ]
  },
  {
   "cell_type": "code",
   "execution_count": 4,
   "metadata": {},
   "outputs": [],
   "source": [
    "# initial_matrix = eigen_part1.create_init_matrix_a(N)\n",
    "# print(initial_matrix)"
   ]
  },
  {
   "cell_type": "markdown",
   "metadata": {},
   "source": [
    "### Steady State Diffusion with a Direct solver\n",
    "Uses a dependency matrix incorporating all the dependencies and a b that enforces the boundary conditions and source.  \n",
    "This is implemented on a circular grid where the edges of the circle are fixed at 0. The grid is solved with different discretization steps. "
   ]
  },
  {
   "cell_type": "code",
   "execution_count": null,
   "metadata": {},
   "outputs": [],
   "source": [
    "# N = 200\n",
    "nntjes = [200, 40, 20]\n",
    "source_location = (0.6, 1.2)\n",
    "diameter = 4\n",
    "\n",
    "# create the grid and plot the converged grid \n",
    "converged_grids = direct_diffusion.direct_diffusion(nntjes, source_location, diameter)\n",
    "vis.plot_diffusion_circle(converged_grids, nntjes)"
   ]
  },
  {
   "cell_type": "markdown",
   "metadata": {},
   "source": [
    "## Leapfrog Method on Spring dynamics\n",
    "using the leapfrog method to discretize spring dynamics, simulate for different spring constants (k)"
   ]
  },
  {
   "cell_type": "markdown",
   "metadata": {},
   "source": [
    "#### Parameter Values"
   ]
  },
  {
   "cell_type": "code",
   "execution_count": 6,
   "metadata": {},
   "outputs": [],
   "source": [
    "#parameters first experiment\n",
    "ks = [16, 8, 4, 2, 1]\n",
    "m=1\n",
    "x = 1\n",
    "v_0 = 0\n",
    "deltat = 0.01\n",
    "\n",
    "# extra parameters second experiment\n",
    "freqs =  [1.4, 1.2, 1, 0.8]\n",
    "k=1\n",
    "time = 18\n",
    "xs = np.linspace(-2, 2, 9, endpoint=True)"
   ]
  },
  {
   "cell_type": "markdown",
   "metadata": {},
   "source": [
    "#### Simulation pure harmonic oscillator, visualizing position-velocity plot"
   ]
  },
  {
   "cell_type": "code",
   "execution_count": null,
   "metadata": {},
   "outputs": [],
   "source": [
    "data_per_k = leapfrog.harmonic_oscillator_leapfrog(ks, deltat, x, v_0, m)\n",
    "\n",
    "vis.vis_harmonic_oscillator(data_per_k)"
   ]
  },
  {
   "cell_type": "markdown",
   "metadata": {},
   "source": [
    "#### Simulation Spring dynamics with extra time-dependent sinusoidal force, Phase plot with position vs velocity"
   ]
  },
  {
   "cell_type": "code",
   "execution_count": null,
   "metadata": {},
   "outputs": [],
   "source": [
    "# saves all simulation steps for every frequency of extra force \n",
    "phases_for_freqs = dict()\n",
    "\n",
    "# iterate over all frequencies for the time-dependent extra force\n",
    "for freq in freqs:\n",
    "    data_per_x0 = leapfrog.harmonic_oscillator_extra_force(k, deltat, xs, v_0, m, freq, time)\n",
    "    phases_for_freqs[freq] = data_per_x0\n",
    "\n",
    "# makes a phase plot for every frequency\n",
    "vis.vis_phase_oscillator(phases_for_freqs, freqs)\n"
   ]
  },
  {
   "cell_type": "code",
   "execution_count": null,
   "metadata": {},
   "outputs": [],
   "source": []
  }
 ],
 "metadata": {
  "kernelspec": {
   "display_name": "myenvsc3",
   "language": "python",
   "name": "python3"
  },
  "language_info": {
   "codemirror_mode": {
    "name": "ipython",
    "version": 3
   },
   "file_extension": ".py",
   "mimetype": "text/x-python",
   "name": "python",
   "nbconvert_exporter": "python",
   "pygments_lexer": "ipython3",
   "version": "3.12.3"
  }
 },
 "nbformat": 4,
 "nbformat_minor": 2
}
