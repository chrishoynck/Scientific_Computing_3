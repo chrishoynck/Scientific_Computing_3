{
 "cells": [
  {
   "cell_type": "code",
   "execution_count": 1,
   "metadata": {},
   "outputs": [],
   "source": [
    "import numpy as np\n",
    "import src.solutions.eigenmodes_part1 as eigen_part1\n",
    "import src.visualizations as vis\n",
    "from scipy.sparse.linalg import eigsh\n",
    "from scipy.linalg import eigh\n",
    "from scipy.sparse import csr_matrix\n",
    "import src.solutions.direct_diffusion as direct_diffusion\n",
    "import src.solutions.leapfrog as leapfrog\n",
    "\n"
   ]
  },
  {
   "cell_type": "code",
   "execution_count": 2,
   "metadata": {},
   "outputs": [],
   "source": [
    "N = 50\n",
    "\n",
    "initial_square = eigen_part1.create_init_matrix_a(N)\n",
    "\n",
    "initial_circle = eigen_part1.create_circle(N)\n",
    "dependency_circle = eigen_part1.create_circle_dependency(N, initial_circle)\n",
    "\n",
    "initial_rectangle = eigen_part1.create_init_matrix_a(N, rectangular=True)\n",
    "\n",
    "eigenvalues_sq, eigenvectors_sq = eigsh(initial_square, k=3, which=\"SM\")\n",
    "eigenvalues_circ, eigenvectors_circ = eigsh(dependency_circle, k=3, which=\"SM\")\n",
    "eigenvalues_rect, eigenvectors_rect = eigsh(initial_rectangle, k=3, which=\"SM\")\n",
    "\n",
    "vis.visualize_different_shapes(eigenvectors_sq, eigenvalues_sq, eigenvectors_circ, eigenvalues_circ, eigenvectors_rect, eigenvalues_rect, N)\n"
   ]
  },
  {
   "cell_type": "markdown",
   "metadata": {},
   "source": [
    "#### 3.1 D Computed eigenfrequencies as a function of size \\( L \\) for three different shapes: Square, Circle, and Rectangle. The eigenvalues are computed and only the negative eigenvalues are used to determine the eigenfrequencies as \\( \\omega = \\sqrt{-\\lambda} \\). The results are plotted to analyze how the eigenfrequency spectrum changes with increasing \\( L \\).\n"
   ]
  },
  {
   "cell_type": "code",
   "execution_count": null,
   "metadata": {},
   "outputs": [],
   "source": [
    "# Dictionaries to store eigenfrequencies\n",
    "eigenfrequencies_sq = {}\n",
    "eigenfrequencies_circ = {}\n",
    "eigenfrequencies_rect = {}\n",
    "\n",
    "sizes = [1, 2, 3, 4, 5] # L\n",
    "N = 50\n",
    "\n",
    "for L in sizes:\n",
    "\n",
    "    # Square\n",
    "    initial_sq = eigen_part1.create_init_matrix_a(L, N)\n",
    "    eigenvalues_sq, _ = eigh(initial_sq)\n",
    "    negative_eigenvalues_sq = eigenvalues_sq[eigenvalues_sq < 0] # only use negative eigenvalues for eigenfrequencies\n",
    "    eigenfrequencies_sq[L] = np.sqrt(-negative_eigenvalues_sq) if len(negative_eigenvalues_sq) > 0 else []\n",
    "\n",
    "    # Circle\n",
    "    initial_circ = eigen_part1.create_circle(N)\n",
    "    matrix_circ = eigen_part1.create_circle_dependency(L, N, initial_circ)\n",
    "    sparse_matrix_circle = csr_matrix(matrix_circ)\n",
    "    num_eigenvalues = sparse_matrix_circle.shape[0]\n",
    "    eigenvalues_circ, _ = eigsh(sparse_matrix_circle, k=num_eigenvalues - 1, which=\"SM\")\n",
    "    negative_eigenvalues_circ = eigenvalues_circ[eigenvalues_circ < 0] # only use negative eigenvalues for eigenfrequencies\n",
    "    eigenfrequencies_circ[L] = np.sqrt(-negative_eigenvalues_circ) if len(negative_eigenvalues_circ) > 0 else []\n",
    "\n",
    "    # Rectangle\n",
    "    initial_rect = eigen_part1.create_init_matrix_a(L, N, rectangular=True)\n",
    "    eigenvalues_rect, _ = eigh(initial_rect)\n",
    "    negative_eigenvalues_rect = eigenvalues_rect[eigenvalues_rect < 0] # only use negative eigenvalues for eigenfrequencies\n",
    "    eigenfrequencies_rect[L] = np.sqrt(-negative_eigenvalues_rect) if len(negative_eigenvalues_rect) > 0 else []\n",
    "\n",
    "# visualize plots\n",
    "vis.eigenfrequencies_plot(sizes, eigenfrequencies_sq, eigenfrequencies_circ, eigenfrequencies_rect)"
   ]
  },
  {
   "cell_type": "markdown",
   "metadata": {},
   "source": [
    "#### 3.1E Computed eigenmodes for \\( N = 50 \\), with parameters \\( A = 1 \\), \\( B = 0 \\), and \\( c = 1 \\). The first 3 eigenmodes were selected from the computed eigenvalues and eigenvectors. Using these eigenmodes, a time-dependent oscillation was applied. The eigenmodes were then visualized through an animated plot, showing how they evolve over time for the matrix. The animation is saved as a GIF."
   ]
  },
  {
   "cell_type": "code",
   "execution_count": null,
   "metadata": {},
   "outputs": [],
   "source": [
    "# Parameters\n",
    "N = 50  # Matrix size\n",
    "num_modes = 3  # Number of eigenmodes\n",
    "t_values = np.linspace(0, 10, 100)  # Time steps\n",
    "A = 1\n",
    "B = 0\n",
    "c = 1\n",
    "\n",
    "# Compute eigenmodes\n",
    "matrix_sq = eigen_part1.create_init_matrix_a(N) # for matrix shape\n",
    "eigenvalues, eigenvectors = np.linalg.eigh(matrix_sq)\n",
    "selected_eigenvalues, selected_eigenvectors = eigenvalues[:num_modes], eigenvectors[:N, :num_modes] # first 3 eigenmodes are selected\n",
    "\n",
    "# Animation\n",
    "vis.plot_eigenmodes(N, num_modes, selected_eigenvalues, selected_eigenvectors, t_values, A, B, c)"
   ]
  },
  {
   "cell_type": "markdown",
   "metadata": {},
   "source": [
    "## Steady State Diffusion with a Direct solver\n",
    "Uses a dependency matrix incorporating all the dependencies and a b that enforces the boundary conditions and source.  \n",
    "This is implemented on a circular grid where the edges of the circle are fixed at 0. The grid is solved with different discretization steps. "
   ]
  },
  {
   "cell_type": "code",
   "execution_count": null,
   "metadata": {},
   "outputs": [],
   "source": [
    "#parameter values\n",
    "nntjes = [200, 40, 20]\n",
    "source_location = (0.6, 1.2)\n",
    "diameter = 4\n",
    "\n",
    "# create the grid and plot the converged grid \n",
    "converged_grids = direct_diffusion.direct_diffusion(nntjes, source_location, diameter)\n",
    "vis.plot_diffusion_circle(converged_grids, nntjes)"
   ]
  },
  {
   "cell_type": "markdown",
   "metadata": {},
   "source": [
    "## Leapfrog Method on Spring dynamics\n",
    "using the leapfrog method to discretize spring dynamics, simulate for different spring constants (k)"
   ]
  },
  {
   "cell_type": "markdown",
   "metadata": {},
   "source": [
    "#### Parameter Values"
   ]
  },
  {
   "cell_type": "code",
   "execution_count": 4,
   "metadata": {},
   "outputs": [],
   "source": [
    "#parameters first experiment\n",
    "ks = [16, 8, 4, 2, 1]\n",
    "m=1\n",
    "x = 1\n",
    "v_0 = 0\n",
    "deltat = 0.01\n",
    "\n",
    "# extra parameters second experiment\n",
    "freqs =  [1.4, 1.2, 1, 0.8]\n",
    "k=1\n",
    "time = 18\n",
    "xs = np.linspace(-2, 2, 9, endpoint=True)"
   ]
  },
  {
   "cell_type": "markdown",
   "metadata": {},
   "source": [
    "#### Simulation pure harmonic oscillator, visualizing position-velocity plot"
   ]
  },
  {
   "cell_type": "code",
   "execution_count": null,
   "metadata": {},
   "outputs": [],
   "source": [
    "data_per_k = leapfrog.harmonic_oscillator_leapfrog(ks, deltat, x, v_0, m)\n",
    "\n",
    "vis.vis_harmonic_oscillator(data_per_k)"
   ]
  },
  {
   "cell_type": "markdown",
   "metadata": {},
   "source": [
    "#### Simulation Spring dynamics with extra time-dependent sinusoidal force, Phase plot with position vs velocity"
   ]
  },
  {
   "cell_type": "code",
   "execution_count": null,
   "metadata": {},
   "outputs": [],
   "source": [
    "# saves all simulation steps for every frequency of extra force \n",
    "phases_for_freqs = dict()\n",
    "\n",
    "# iterate over all frequencies for the time-dependent extra force\n",
    "for freq in freqs:\n",
    "    data_per_x0 = leapfrog.harmonic_oscillator_extra_force(k, deltat, xs, v_0, m, freq, time)\n",
    "    phases_for_freqs[freq] = data_per_x0\n",
    "\n",
    "# makes a phase plot for every frequency\n",
    "vis.vis_phase_oscillator(phases_for_freqs, freqs)\n"
   ]
  },
  {
   "cell_type": "markdown",
   "metadata": {},
   "source": []
  }
 ],
 "metadata": {
  "kernelspec": {
   "display_name": ".venv",
   "language": "python",
   "name": "python3"
  },
  "language_info": {
   "codemirror_mode": {
    "name": "ipython",
    "version": 3
   },
   "file_extension": ".py",
   "mimetype": "text/x-python",
   "name": "python",
   "nbconvert_exporter": "python",
   "pygments_lexer": "ipython3",
   "version": "3.13.2"
  }
 },
 "nbformat": 4,
 "nbformat_minor": 2
}
