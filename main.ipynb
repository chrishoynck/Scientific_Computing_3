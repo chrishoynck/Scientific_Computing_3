{
 "cells": [
  {
   "cell_type": "code",
   "execution_count": null,
   "metadata": {},
   "outputs": [],
   "source": [
    "import numpy as np\n",
    "import src.solutions.eigenmodes_part1 as eigen_part1\n",
    "import src.visualizations as vis\n",
    "from scipy.sparse.linalg import eigsh"
   ]
  },
  {
   "cell_type": "code",
   "execution_count": null,
   "metadata": {},
   "outputs": [],
   "source": [
    "N = 5"
   ]
  },
  {
   "cell_type": "code",
   "execution_count": null,
   "metadata": {},
   "outputs": [],
   "source": [
    "initial_matrix = eigen_part1.create_init_matrix_a(N)\n",
    "print(initial_matrix)"
   ]
  },
  {
   "cell_type": "code",
   "execution_count": null,
   "metadata": {},
   "outputs": [],
   "source": [
    "N = 100\n",
    "\n",
    "initial_circle = eigen_part1.create_circle(N)\n",
    "dependency_circle = eigen_part1.create_circle_dependency(N, initial_circle)\n",
    "initial_matrix = eigen_part1.create_init_matrix_a(N)\n",
    "print(dependency_circle)\n",
    "\n",
    "vis.visualize_mesh(initial_matrix)\n",
    "vis.visualize_mesh(initial_circle)\n",
    "vis.visualize_mesh(dependency_circle)\n"
   ]
  },
  {
   "cell_type": "code",
   "execution_count": null,
   "metadata": {},
   "outputs": [],
   "source": [
    "N = 50\n",
    "initial_square = eigen_part1.create_init_matrix_a(N)\n",
    "\n",
    "initial_circle = eigen_part1.create_circle(N)\n",
    "dependency_circle = eigen_part1.create_circle_dependency(N, initial_circle)\n",
    "\n",
    "initial_rectangle = eigen_part1.create_init_matrix_a(N, rectangular=True)\n",
    "\n",
    "eigenvalues_sq, eigenvectors_sq = eigsh(initial_square, k=3, which=\"SM\")\n",
    "eigenvalues_circ, eigenvectors_circ = eigsh(dependency_circle, k=3, which=\"SM\")\n",
    "eigenvalues_rect, eigenvectors_rect = eigsh(initial_rectangle, k=3, which=\"SM\")\n",
    "\n",
    "vis.visualize_different_shapes(eigenvectors_sq, eigenvalues_sq, eigenvectors_circ, eigenvalues_circ, eigenvectors_rect, eigenvalues_rect, N)\n"
   ]
  },
  {
   "cell_type": "code",
   "execution_count": null,
   "metadata": {},
   "outputs": [],
   "source": []
  }
 ],
 "metadata": {
  "kernelspec": {
   "display_name": "base",
   "language": "python",
   "name": "python3"
  },
  "language_info": {
   "codemirror_mode": {
    "name": "ipython",
    "version": 3
   },
   "file_extension": ".py",
   "mimetype": "text/x-python",
   "name": "python",
   "nbconvert_exporter": "python",
   "pygments_lexer": "ipython3",
   "version": "3.11.4"
  }
 },
 "nbformat": 4,
 "nbformat_minor": 2
}
