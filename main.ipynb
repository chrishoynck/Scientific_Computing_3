{
 "cells": [
  {
   "cell_type": "code",
   "execution_count": 1,
   "metadata": {},
   "outputs": [],
   "source": [
    "import numpy as np\n",
    "import src.solutions.eigenmodes_part1 as eigen_part1\n",
    "import src.solutions.direct_diffusion as direct_diffusion\n",
    "import src.visualizations as vis"
   ]
  },
  {
   "cell_type": "code",
   "execution_count": 2,
   "metadata": {},
   "outputs": [],
   "source": [
    "N = 5"
   ]
  },
  {
   "cell_type": "code",
   "execution_count": null,
   "metadata": {},
   "outputs": [],
   "source": [
    "# initial_matrix = eigen_part1.create_init_matrix_a(N)\n",
    "# print(initial_matrix)"
   ]
  },
  {
   "cell_type": "markdown",
   "metadata": {},
   "source": [
    "### Steady State Diffusion with a Direct solver\n",
    "Uses a dependency matrix incorporating all the dependencies and a b that enforces the boundary conditions and source.  \n",
    "This is implemented on a circular grid where the edges of the circle are fixed at 0. The grid is solved with different discretization steps. "
   ]
  },
  {
   "cell_type": "code",
   "execution_count": null,
   "metadata": {},
   "outputs": [],
   "source": [
    "# N = 200\n",
    "nntjes = [200, 50, 20]\n",
    "source_location = (0.6, 1.2)\n",
    "grid_size = 2\n",
    "\n",
    "converged_grids = direct_diffusion.direct_diffusion(nntjes, source_location, grid_size)\n",
    "vis.plot_diffusion_circle(converged_grids, nntjes)"
   ]
  },
  {
   "cell_type": "code",
   "execution_count": null,
   "metadata": {},
   "outputs": [],
   "source": []
  }
 ],
 "metadata": {
  "kernelspec": {
   "display_name": "myenvsc3",
   "language": "python",
   "name": "python3"
  },
  "language_info": {
   "codemirror_mode": {
    "name": "ipython",
    "version": 3
   },
   "file_extension": ".py",
   "mimetype": "text/x-python",
   "name": "python",
   "nbconvert_exporter": "python",
   "pygments_lexer": "ipython3",
   "version": "3.12.3"
  }
 },
 "nbformat": 4,
 "nbformat_minor": 2
}
